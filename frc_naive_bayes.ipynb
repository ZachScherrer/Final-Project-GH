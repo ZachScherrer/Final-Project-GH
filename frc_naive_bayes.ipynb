{
 "cells": [
  {
   "cell_type": "code",
   "execution_count": 6,
   "metadata": {},
   "outputs": [],
   "source": [
    "import pandas as pd\n",
    "import itertools\n",
    "import os\n",
    "\n",
    "%matplotlib inline\n",
    "import matplotlib.pyplot as plt\n",
    "import numpy as np\n",
    "import tensorflow as tf\n",
    "\n",
    "from sklearn.model_selection import train_test_split\n",
    "from sklearn.naive_bayes import GaussianNB\n",
    "from sklearn.metrics import accuracy_score\n"
   ]
  },
  {
   "cell_type": "code",
   "execution_count": 7,
   "metadata": {},
   "outputs": [],
   "source": [
    "data = pd.read_excel('frc_data.xlsx', sheet_name='frc data')"
   ]
  },
  {
   "cell_type": "code",
   "execution_count": 9,
   "metadata": {},
   "outputs": [],
   "source": [
    "label_names = data['Action Needed']\n",
    "labels = data['Action Needed']\n",
    "feature_names = data['Request Description']\n",
    "features = data['Request Description']"
   ]
  },
  {
   "cell_type": "code",
   "execution_count": 10,
   "metadata": {},
   "outputs": [
    {
     "name": "stdout",
     "output_type": "stream",
     "text": [
      "0       Y\n",
      "1       N\n",
      "2       N\n",
      "3       Y\n",
      "4       N\n",
      "5       N\n",
      "6       N\n",
      "7       N\n",
      "8       N\n",
      "9       N\n",
      "10      N\n",
      "11      N\n",
      "12      N\n",
      "13      N\n",
      "14      N\n",
      "15      N\n",
      "16      N\n",
      "17      N\n",
      "18      N\n",
      "19      N\n",
      "20      N\n",
      "21      Y\n",
      "22      N\n",
      "23      N\n",
      "24      N\n",
      "25      N\n",
      "26      N\n",
      "27      N\n",
      "28      N\n",
      "29      Y\n",
      "       ..\n",
      "9283    N\n",
      "9284    N\n",
      "9285    N\n",
      "9286    N\n",
      "9287    N\n",
      "9288    N\n",
      "9289    N\n",
      "9290    N\n",
      "9291    N\n",
      "9292    N\n",
      "9293    Y\n",
      "9294    N\n",
      "9295    N\n",
      "9296    Y\n",
      "9297    N\n",
      "9298    N\n",
      "9299    N\n",
      "9300    N\n",
      "9301    N\n",
      "9302    N\n",
      "9303    N\n",
      "9304    N\n",
      "9305    N\n",
      "9306    N\n",
      "9307    N\n",
      "9308    N\n",
      "9309    N\n",
      "9310    N\n",
      "9311    N\n",
      "9312    N\n",
      "Name: Action Needed, Length: 9313, dtype: object\n",
      "Class label =  Y\n",
      "0       \\n​\\nTeam,\\n \\nMy policy is locked in TAP, can...\n",
      "1       \\n​\\nHello,\\n \\nCan you please confirm if we a...\n",
      "2       \\n​\\nHello,\\n \\nCan you look into why the BPP ...\n",
      "3       \\n​I thought I read something recently on this...\n",
      "4       \\n​\\nHello,\\n \\nI have a insured who would lik...\n",
      "5       \\nHi,\\nCan you advise on the below?\\n---------...\n",
      "6       \\n​\\nIs there a work around that will allow us...\n",
      "7       \\n​Please see below question. Can I get an exp...\n",
      "8       \\n​\\nI have a CNP policy that does not have an...\n",
      "9       \\n​\\nLast year's auto PD experience mod was .4...\n",
      "10      \\n​\\n \\nUmbrella rate change looks to be incor...\n",
      "11      \\n​\\nHi there, As you'll see from the thread b...\n",
      "12      \\n​\\nHi FRC team,\\n \\nI am hoping you can help...\n",
      "13      \\n​Kyle had a question about the docs he thoug...\n",
      "14      \\n​\\nHi!\\n \\nI have an agent asking about why ...\n",
      "15      \\n​\\nWhen will 10 equal  pay be available  so ...\n",
      "16      \\nWorking on renewal on this account. When we ...\n",
      "17      \\n​Hi,\\nWe have a link to the PA UM/UIM Select...\n",
      "18      \\nAnswered by Ann Marie\\nJanette called FRC an...\n",
      "19      \\n​\\nI've tried on several larger auto schedul...\n",
      "20      \\n​\\nAnn Marie,\\n \\nAre we able to have the ex...\n",
      "21      \\nHi Josh,\\nCan you please assist with moving ...\n",
      "22      \\n​\\nHello Scott,\\n \\nThe Name and FEIN are st...\n",
      "23      \\n​\\nThe above policy number is a 10/14/2018 B...\n",
      "24      \\n​\\nHi Carol,\\n \\nWe received this email from...\n",
      "25      \\n​I lost Google Earth Pro when I got my new c...\n",
      "26      \\n​\\nGood Morning,\\n \\nIs there any way we can...\n",
      "27      \\n​\\n \\nWhy does the account not model in RST ...\n",
      "28      \\nGood morning,\\nPlease see the below email ch...\n",
      "29            \\n​\\n \\nTechnical Rating issue on GL policy\n",
      "                              ...                        \n",
      "9283    \\n​The broker is questioning stop gap policy l...\n",
      "9284    \\n​Is there a current list providing the Under...\n",
      "9285    \\nGood morning,\\nI work on the Roofing Captive...\n",
      "9286    \\n​I am looking for the job aid on how to ente...\n",
      "9287    \\n​\\n \\nI changed the PRPT code for all lines ...\n",
      "9288    \\nHey Mike\\nI'm reviewing the Physical Damage ...\n",
      "9289    \\n​\\nHi,\\nThe policy my UW and I am working on...\n",
      "9290    \\nHello,  \\nPlease see below. We added NY cove...\n",
      "9291    \\n​Please process the attached signed Officers...\n",
      "9292    \\nIs there any way you can speed up the proces...\n",
      "9293    \\n​\\nThis was taken over by BOR by another age...\n",
      "9294    \\n​\\nHI,\\n \\nI am reviewing this renewal and R...\n",
      "9295    \\n​\\nI also need access to Christine Snowberge...\n",
      "9296    \\nAuto premium is incorrect, this appear to ha...\n",
      "9297    \\n​\\nPlease contact me about sending clarifyin...\n",
      "9298    \\n​\\nHi there,\\n \\nCan we get some priority on...\n",
      "9299    \\n​I do not see my premium after Rating.  Can ...\n",
      "9300    \\n​\\nThe  UW approved adding a \"Notice of Canc...\n",
      "9301    \\nTri3ed several times - keep getting \"failed\"...\n",
      "9302    \\n​\\nGood morning-\\nI am following up on an en...\n",
      "9303    \\n​CAT Model keeps failing. I there an issue w...\n",
      "9304    \\n​\\nI received this communication from proces...\n",
      "9305    \\n​\\nI need BPMT access for a new employee\\nKa...\n",
      "9306    \\n​Another CA Waiver mess that included Small ...\n",
      "9307    \\n​Please forward at your earliest convenience...\n",
      "9308    \\nGood morning –  \\nI found the following two ...\n",
      "9309    \\n​\\nHi Karen,\\n \\nMy understanding is that th...\n",
      "9310    \\n​Can we use symbol 7 to activate physical da...\n",
      "9311    \\nRST is showing loc 1/1 as non-sprinklered in...\n",
      "9312    \\n​\\nGood morning-\\n \\nI am sending this on Mo...\n",
      "Name: Request Description, Length: 9313, dtype: object\n",
      "\n",
      "​\n",
      "Team,\n",
      " \n",
      "My policy is locked in TAP, can you please advise how I can release?\n"
     ]
    }
   ],
   "source": [
    "print(label_names)\n",
    "print('Class label = ', labels[0])\n",
    "print(feature_names)\n",
    "print(features[0])"
   ]
  },
  {
   "cell_type": "code",
   "execution_count": 11,
   "metadata": {},
   "outputs": [],
   "source": [
    "train, test, train_labels, test_labels = train_test_split(features,\n",
    "                                                          labels,\n",
    "                                                          test_size=0.33,\n",
    "                                                          random_state=42)"
   ]
  },
  {
   "cell_type": "code",
   "execution_count": 12,
   "metadata": {},
   "outputs": [],
   "source": [
    "gnb = GaussianNB()"
   ]
  },
  {
   "cell_type": "code",
   "execution_count": 13,
   "metadata": {},
   "outputs": [
    {
     "ename": "ValueError",
     "evalue": "could not convert string to float: '\\n\\u200b\\nHello –\\n\\xa0\\nIs there a place where agents/brokers can pull umbrella dec pages?\\xa0\\xa0 It seems as though I get this question quite a bit.\\xa0 I tried to go into CNA central myself and pull them and I also get a \"policy not found\".\\n\\xa0\\nThanks!'",
     "output_type": "error",
     "traceback": [
      "\u001b[0;31m---------------------------------------------------------------------------\u001b[0m",
      "\u001b[0;31mValueError\u001b[0m                                Traceback (most recent call last)",
      "\u001b[0;32m<ipython-input-13-9e57db3381f3>\u001b[0m in \u001b[0;36m<module>\u001b[0;34m()\u001b[0m\n\u001b[0;32m----> 1\u001b[0;31m \u001b[0mmodel\u001b[0m \u001b[0;34m=\u001b[0m \u001b[0mgnb\u001b[0m\u001b[0;34m.\u001b[0m\u001b[0mfit\u001b[0m\u001b[0;34m(\u001b[0m\u001b[0mtrain\u001b[0m\u001b[0;34m,\u001b[0m \u001b[0mtrain_labels\u001b[0m\u001b[0;34m)\u001b[0m\u001b[0;34m\u001b[0m\u001b[0m\n\u001b[0m",
      "\u001b[0;32m/anaconda3/lib/python3.6/site-packages/sklearn/naive_bayes.py\u001b[0m in \u001b[0;36mfit\u001b[0;34m(self, X, y, sample_weight)\u001b[0m\n\u001b[1;32m    181\u001b[0m             \u001b[0mReturns\u001b[0m \u001b[0mself\u001b[0m\u001b[0;34m.\u001b[0m\u001b[0;34m\u001b[0m\u001b[0m\n\u001b[1;32m    182\u001b[0m         \"\"\"\n\u001b[0;32m--> 183\u001b[0;31m         \u001b[0mX\u001b[0m\u001b[0;34m,\u001b[0m \u001b[0my\u001b[0m \u001b[0;34m=\u001b[0m \u001b[0mcheck_X_y\u001b[0m\u001b[0;34m(\u001b[0m\u001b[0mX\u001b[0m\u001b[0;34m,\u001b[0m \u001b[0my\u001b[0m\u001b[0;34m)\u001b[0m\u001b[0;34m\u001b[0m\u001b[0m\n\u001b[0m\u001b[1;32m    184\u001b[0m         return self._partial_fit(X, y, np.unique(y), _refit=True,\n\u001b[1;32m    185\u001b[0m                                  sample_weight=sample_weight)\n",
      "\u001b[0;32m/anaconda3/lib/python3.6/site-packages/sklearn/utils/validation.py\u001b[0m in \u001b[0;36mcheck_X_y\u001b[0;34m(X, y, accept_sparse, dtype, order, copy, force_all_finite, ensure_2d, allow_nd, multi_output, ensure_min_samples, ensure_min_features, y_numeric, warn_on_dtype, estimator)\u001b[0m\n\u001b[1;32m    571\u001b[0m     X = check_array(X, accept_sparse, dtype, order, copy, force_all_finite,\n\u001b[1;32m    572\u001b[0m                     \u001b[0mensure_2d\u001b[0m\u001b[0;34m,\u001b[0m \u001b[0mallow_nd\u001b[0m\u001b[0;34m,\u001b[0m \u001b[0mensure_min_samples\u001b[0m\u001b[0;34m,\u001b[0m\u001b[0;34m\u001b[0m\u001b[0m\n\u001b[0;32m--> 573\u001b[0;31m                     ensure_min_features, warn_on_dtype, estimator)\n\u001b[0m\u001b[1;32m    574\u001b[0m     \u001b[0;32mif\u001b[0m \u001b[0mmulti_output\u001b[0m\u001b[0;34m:\u001b[0m\u001b[0;34m\u001b[0m\u001b[0m\n\u001b[1;32m    575\u001b[0m         y = check_array(y, 'csr', force_all_finite=True, ensure_2d=False,\n",
      "\u001b[0;32m/anaconda3/lib/python3.6/site-packages/sklearn/utils/validation.py\u001b[0m in \u001b[0;36mcheck_array\u001b[0;34m(array, accept_sparse, dtype, order, copy, force_all_finite, ensure_2d, allow_nd, ensure_min_samples, ensure_min_features, warn_on_dtype, estimator)\u001b[0m\n\u001b[1;32m    431\u001b[0m                                       force_all_finite)\n\u001b[1;32m    432\u001b[0m     \u001b[0;32melse\u001b[0m\u001b[0;34m:\u001b[0m\u001b[0;34m\u001b[0m\u001b[0m\n\u001b[0;32m--> 433\u001b[0;31m         \u001b[0marray\u001b[0m \u001b[0;34m=\u001b[0m \u001b[0mnp\u001b[0m\u001b[0;34m.\u001b[0m\u001b[0marray\u001b[0m\u001b[0;34m(\u001b[0m\u001b[0marray\u001b[0m\u001b[0;34m,\u001b[0m \u001b[0mdtype\u001b[0m\u001b[0;34m=\u001b[0m\u001b[0mdtype\u001b[0m\u001b[0;34m,\u001b[0m \u001b[0morder\u001b[0m\u001b[0;34m=\u001b[0m\u001b[0morder\u001b[0m\u001b[0;34m,\u001b[0m \u001b[0mcopy\u001b[0m\u001b[0;34m=\u001b[0m\u001b[0mcopy\u001b[0m\u001b[0;34m)\u001b[0m\u001b[0;34m\u001b[0m\u001b[0m\n\u001b[0m\u001b[1;32m    434\u001b[0m \u001b[0;34m\u001b[0m\u001b[0m\n\u001b[1;32m    435\u001b[0m         \u001b[0;32mif\u001b[0m \u001b[0mensure_2d\u001b[0m\u001b[0;34m:\u001b[0m\u001b[0;34m\u001b[0m\u001b[0m\n",
      "\u001b[0;31mValueError\u001b[0m: could not convert string to float: '\\n\\u200b\\nHello –\\n\\xa0\\nIs there a place where agents/brokers can pull umbrella dec pages?\\xa0\\xa0 It seems as though I get this question quite a bit.\\xa0 I tried to go into CNA central myself and pull them and I also get a \"policy not found\".\\n\\xa0\\nThanks!'"
     ]
    }
   ],
   "source": [
    "model = gnb.fit(train, train_labels)"
   ]
  },
  {
   "cell_type": "code",
   "execution_count": 14,
   "metadata": {},
   "outputs": [
    {
     "ename": "NotFittedError",
     "evalue": "This GaussianNB instance is not fitted yet. Call 'fit' with appropriate arguments before using this method.",
     "output_type": "error",
     "traceback": [
      "\u001b[0;31m---------------------------------------------------------------------------\u001b[0m",
      "\u001b[0;31mNotFittedError\u001b[0m                            Traceback (most recent call last)",
      "\u001b[0;32m<ipython-input-14-691a9dfca806>\u001b[0m in \u001b[0;36m<module>\u001b[0;34m()\u001b[0m\n\u001b[0;32m----> 1\u001b[0;31m \u001b[0mpreds\u001b[0m \u001b[0;34m=\u001b[0m \u001b[0mgnb\u001b[0m\u001b[0;34m.\u001b[0m\u001b[0mpredict\u001b[0m\u001b[0;34m(\u001b[0m\u001b[0mtest\u001b[0m\u001b[0;34m)\u001b[0m\u001b[0;34m\u001b[0m\u001b[0m\n\u001b[0m\u001b[1;32m      2\u001b[0m \u001b[0mprint\u001b[0m\u001b[0;34m(\u001b[0m\u001b[0mpreds\u001b[0m\u001b[0;34m)\u001b[0m\u001b[0;34m\u001b[0m\u001b[0m\n",
      "\u001b[0;32m/anaconda3/lib/python3.6/site-packages/sklearn/naive_bayes.py\u001b[0m in \u001b[0;36mpredict\u001b[0;34m(self, X)\u001b[0m\n\u001b[1;32m     64\u001b[0m             \u001b[0mPredicted\u001b[0m \u001b[0mtarget\u001b[0m \u001b[0mvalues\u001b[0m \u001b[0;32mfor\u001b[0m \u001b[0mX\u001b[0m\u001b[0;34m\u001b[0m\u001b[0m\n\u001b[1;32m     65\u001b[0m         \"\"\"\n\u001b[0;32m---> 66\u001b[0;31m         \u001b[0mjll\u001b[0m \u001b[0;34m=\u001b[0m \u001b[0mself\u001b[0m\u001b[0;34m.\u001b[0m\u001b[0m_joint_log_likelihood\u001b[0m\u001b[0;34m(\u001b[0m\u001b[0mX\u001b[0m\u001b[0;34m)\u001b[0m\u001b[0;34m\u001b[0m\u001b[0m\n\u001b[0m\u001b[1;32m     67\u001b[0m         \u001b[0;32mreturn\u001b[0m \u001b[0mself\u001b[0m\u001b[0;34m.\u001b[0m\u001b[0mclasses_\u001b[0m\u001b[0;34m[\u001b[0m\u001b[0mnp\u001b[0m\u001b[0;34m.\u001b[0m\u001b[0margmax\u001b[0m\u001b[0;34m(\u001b[0m\u001b[0mjll\u001b[0m\u001b[0;34m,\u001b[0m \u001b[0maxis\u001b[0m\u001b[0;34m=\u001b[0m\u001b[0;36m1\u001b[0m\u001b[0;34m)\u001b[0m\u001b[0;34m]\u001b[0m\u001b[0;34m\u001b[0m\u001b[0m\n\u001b[1;32m     68\u001b[0m \u001b[0;34m\u001b[0m\u001b[0m\n",
      "\u001b[0;32m/anaconda3/lib/python3.6/site-packages/sklearn/naive_bayes.py\u001b[0m in \u001b[0;36m_joint_log_likelihood\u001b[0;34m(self, X)\u001b[0m\n\u001b[1;32m    424\u001b[0m \u001b[0;34m\u001b[0m\u001b[0m\n\u001b[1;32m    425\u001b[0m     \u001b[0;32mdef\u001b[0m \u001b[0m_joint_log_likelihood\u001b[0m\u001b[0;34m(\u001b[0m\u001b[0mself\u001b[0m\u001b[0;34m,\u001b[0m \u001b[0mX\u001b[0m\u001b[0;34m)\u001b[0m\u001b[0;34m:\u001b[0m\u001b[0;34m\u001b[0m\u001b[0m\n\u001b[0;32m--> 426\u001b[0;31m         \u001b[0mcheck_is_fitted\u001b[0m\u001b[0;34m(\u001b[0m\u001b[0mself\u001b[0m\u001b[0;34m,\u001b[0m \u001b[0;34m\"classes_\"\u001b[0m\u001b[0;34m)\u001b[0m\u001b[0;34m\u001b[0m\u001b[0m\n\u001b[0m\u001b[1;32m    427\u001b[0m \u001b[0;34m\u001b[0m\u001b[0m\n\u001b[1;32m    428\u001b[0m         \u001b[0mX\u001b[0m \u001b[0;34m=\u001b[0m \u001b[0mcheck_array\u001b[0m\u001b[0;34m(\u001b[0m\u001b[0mX\u001b[0m\u001b[0;34m)\u001b[0m\u001b[0;34m\u001b[0m\u001b[0m\n",
      "\u001b[0;32m/anaconda3/lib/python3.6/site-packages/sklearn/utils/validation.py\u001b[0m in \u001b[0;36mcheck_is_fitted\u001b[0;34m(estimator, attributes, msg, all_or_any)\u001b[0m\n\u001b[1;32m    766\u001b[0m \u001b[0;34m\u001b[0m\u001b[0m\n\u001b[1;32m    767\u001b[0m     \u001b[0;32mif\u001b[0m \u001b[0;32mnot\u001b[0m \u001b[0mall_or_any\u001b[0m\u001b[0;34m(\u001b[0m\u001b[0;34m[\u001b[0m\u001b[0mhasattr\u001b[0m\u001b[0;34m(\u001b[0m\u001b[0mestimator\u001b[0m\u001b[0;34m,\u001b[0m \u001b[0mattr\u001b[0m\u001b[0;34m)\u001b[0m \u001b[0;32mfor\u001b[0m \u001b[0mattr\u001b[0m \u001b[0;32min\u001b[0m \u001b[0mattributes\u001b[0m\u001b[0;34m]\u001b[0m\u001b[0;34m)\u001b[0m\u001b[0;34m:\u001b[0m\u001b[0;34m\u001b[0m\u001b[0m\n\u001b[0;32m--> 768\u001b[0;31m         \u001b[0;32mraise\u001b[0m \u001b[0mNotFittedError\u001b[0m\u001b[0;34m(\u001b[0m\u001b[0mmsg\u001b[0m \u001b[0;34m%\u001b[0m \u001b[0;34m{\u001b[0m\u001b[0;34m'name'\u001b[0m\u001b[0;34m:\u001b[0m \u001b[0mtype\u001b[0m\u001b[0;34m(\u001b[0m\u001b[0mestimator\u001b[0m\u001b[0;34m)\u001b[0m\u001b[0;34m.\u001b[0m\u001b[0m__name__\u001b[0m\u001b[0;34m}\u001b[0m\u001b[0;34m)\u001b[0m\u001b[0;34m\u001b[0m\u001b[0m\n\u001b[0m\u001b[1;32m    769\u001b[0m \u001b[0;34m\u001b[0m\u001b[0m\n\u001b[1;32m    770\u001b[0m \u001b[0;34m\u001b[0m\u001b[0m\n",
      "\u001b[0;31mNotFittedError\u001b[0m: This GaussianNB instance is not fitted yet. Call 'fit' with appropriate arguments before using this method."
     ]
    }
   ],
   "source": [
    "preds = gnb.predict(test)\n",
    "print(preds)"
   ]
  },
  {
   "cell_type": "code",
   "execution_count": null,
   "metadata": {},
   "outputs": [],
   "source": [
    "print(accuracy_score(test_labels, preds))"
   ]
  }
 ],
 "metadata": {
  "kernelspec": {
   "display_name": "Python 3",
   "language": "python",
   "name": "python3"
  },
  "language_info": {
   "codemirror_mode": {
    "name": "ipython",
    "version": 3
   },
   "file_extension": ".py",
   "mimetype": "text/x-python",
   "name": "python",
   "nbconvert_exporter": "python",
   "pygments_lexer": "ipython3",
   "version": "3.6.4"
  }
 },
 "nbformat": 4,
 "nbformat_minor": 2
}
