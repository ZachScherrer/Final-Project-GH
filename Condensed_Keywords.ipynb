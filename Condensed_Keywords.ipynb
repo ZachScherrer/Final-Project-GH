{
 "cells": [
  {
   "cell_type": "code",
   "execution_count": 1,
   "metadata": {},
   "outputs": [
    {
     "name": "stderr",
     "output_type": "stream",
     "text": [
      "/anaconda3/lib/python3.6/site-packages/h5py/__init__.py:36: FutureWarning: Conversion of the second argument of issubdtype from `float` to `np.floating` is deprecated. In future, it will be treated as `np.float64 == np.dtype(float).type`.\n",
      "  from ._conv import register_converters as _register_converters\n",
      "Using TensorFlow backend.\n"
     ]
    }
   ],
   "source": [
    "import pandas as pd\n",
    "import itertools\n",
    "import os\n",
    "\n",
    "%matplotlib inline\n",
    "import matplotlib.pyplot as plt\n",
    "import numpy as np\n",
    "import tensorflow as tf\n",
    "\n",
    "from sklearn.preprocessing import LabelBinarizer, LabelEncoder\n",
    "from sklearn.metrics import confusion_matrix\n",
    "\n",
    "import keras\n",
    "from keras.models import Sequential\n",
    "from keras.layers import Dense, Activation, Dropout\n",
    "from keras.preprocessing import text, sequence\n",
    "from keras import utils"
   ]
  },
  {
   "cell_type": "code",
   "execution_count": 2,
   "metadata": {},
   "outputs": [],
   "source": [
    "df_requests = pd.read_excel('FRC Data1.xlsx', sheet_name='FRC Requests')\n",
    "# df_people = pd.read_excel('FRC Data1.xlsx', sheet_name='Requestor')"
   ]
  },
  {
   "cell_type": "code",
   "execution_count": 35,
   "metadata": {},
   "outputs": [
    {
     "data": {
      "text/plain": [
       "Process    3727\n",
       "Systems    1859\n",
       "Forms      1458\n",
       "Rate       1140\n",
       "Other       457\n",
       "Name: Category, dtype: int64"
      ]
     },
     "execution_count": 35,
     "metadata": {},
     "output_type": "execute_result"
    }
   ],
   "source": [
    "df_requests['Category'].value_counts()"
   ]
  },
  {
   "cell_type": "code",
   "execution_count": 24,
   "metadata": {},
   "outputs": [
    {
     "data": {
      "text/plain": [
       "Rate Change                 556\n",
       "Form Review                 262\n",
       "Endorsement Print           250\n",
       "Premium Discrepancy         218\n",
       "CAT                         194\n",
       "Endorsement Process         186\n",
       "Experience Modification     181\n",
       "Billing                     166\n",
       "System Issue                165\n",
       "Policy Setup                157\n",
       "Rating Error                152\n",
       "BOR                         135\n",
       "Policy Issuance             130\n",
       "Rating Process              125\n",
       "Officer Exclusion           123\n",
       "Loss Analysis               123\n",
       "LOB Assistance              121\n",
       "Premium Issue               115\n",
       "RE Factor                   114\n",
       "Technical Error             113\n",
       "Filing                      110\n",
       "Audit                       105\n",
       "User Access                 103\n",
       "Classification              100\n",
       "Technical Rating             94\n",
       "Form Missing                 90\n",
       "Policy Print                 89\n",
       "Cancel Rewrite               87\n",
       "Composite                    85\n",
       "Endorsement Correction       85\n",
       "                           ... \n",
       "CNA Emergency Test            1\n",
       "IT Help Desk                  1\n",
       "Vehicle Plates                1\n",
       "Repossessed boats             1\n",
       "Reverse Action                1\n",
       "Compliance Questions          1\n",
       "IT Security                   1\n",
       "document Attachment           1\n",
       "Property Newly Acquired       1\n",
       "Certified Copy                1\n",
       "mobile Equipment              1\n",
       "Address Change                1\n",
       "Profile Picture               1\n",
       "Technology Matrix             1\n",
       "Puerto Rico location          1\n",
       "Fax document                  1\n",
       "Temporary Worker              1\n",
       "Notice                        1\n",
       "Network credit                1\n",
       "FRC Contact info              1\n",
       "ECF Integration               1\n",
       "Document Error                1\n",
       "EMS                           1\n",
       "Propagation                   1\n",
       "Letter of Intent              1\n",
       "Merit Raing                   1\n",
       "New Business Submissions      1\n",
       "MPN Provider listing          1\n",
       "ServiceNow                    1\n",
       "loss Analysiss                1\n",
       "Name: Key Word Roll-Up, Length: 518, dtype: int64"
      ]
     },
     "execution_count": 24,
     "metadata": {},
     "output_type": "execute_result"
    }
   ],
   "source": [
    "df_requests['Key Word Roll-Up'].value_counts()"
   ]
  },
  {
   "cell_type": "code",
   "execution_count": 5,
   "metadata": {},
   "outputs": [
    {
     "data": {
      "text/html": [
       "<div>\n",
       "<style scoped>\n",
       "    .dataframe tbody tr th:only-of-type {\n",
       "        vertical-align: middle;\n",
       "    }\n",
       "\n",
       "    .dataframe tbody tr th {\n",
       "        vertical-align: top;\n",
       "    }\n",
       "\n",
       "    .dataframe thead th {\n",
       "        text-align: right;\n",
       "    }\n",
       "</style>\n",
       "<table border=\"1\" class=\"dataframe\">\n",
       "  <thead>\n",
       "    <tr style=\"text-align: right;\">\n",
       "      <th></th>\n",
       "      <th>ID</th>\n",
       "      <th>Submission Date</th>\n",
       "      <th>Resolution Date</th>\n",
       "      <th>FRC Owner</th>\n",
       "      <th>Request</th>\n",
       "      <th>Requestor</th>\n",
       "      <th>Request Description</th>\n",
       "      <th>Status</th>\n",
       "      <th>Urgent?</th>\n",
       "      <th>Reopen?</th>\n",
       "      <th>...</th>\n",
       "      <th>Resource(s) Used / Referred To</th>\n",
       "      <th>Incident / PME / Project # (Where Appl.)</th>\n",
       "      <th>Created</th>\n",
       "      <th>Created By</th>\n",
       "      <th>Modified</th>\n",
       "      <th>Last Modified By</th>\n",
       "      <th>Submission Month</th>\n",
       "      <th>res date</th>\n",
       "      <th>Item Type</th>\n",
       "      <th>Path</th>\n",
       "    </tr>\n",
       "  </thead>\n",
       "  <tbody>\n",
       "    <tr>\n",
       "      <th>0</th>\n",
       "      <td>13960</td>\n",
       "      <td>2018-10-01</td>\n",
       "      <td>NaT</td>\n",
       "      <td>Bush, Andrew</td>\n",
       "      <td>return premium endorsement was booked in Rapid</td>\n",
       "      <td>Lal,Pushpanjali</td>\n",
       "      <td>\\n​\\nGood Morning All,\\n \\nAs I mentioned belo...</td>\n",
       "      <td>Open</td>\n",
       "      <td>No</td>\n",
       "      <td>No</td>\n",
       "      <td>...</td>\n",
       "      <td>NaN</td>\n",
       "      <td>NaN</td>\n",
       "      <td>2018-10-01 10:44:16</td>\n",
       "      <td>Munsell,Julia E.</td>\n",
       "      <td>2018-10-01 10:44:16</td>\n",
       "      <td>Munsell,Julia E.</td>\n",
       "      <td>201810</td>\n",
       "      <td>-</td>\n",
       "      <td>Item</td>\n",
       "      <td>ccm/FRC/Lists/TEST</td>\n",
       "    </tr>\n",
       "    <tr>\n",
       "      <th>1</th>\n",
       "      <td>13959</td>\n",
       "      <td>2018-10-01</td>\n",
       "      <td>NaT</td>\n",
       "      <td>Reel, Joshua</td>\n",
       "      <td>CRIS training ?</td>\n",
       "      <td>Albright,Kevin T.</td>\n",
       "      <td>\\n​Please advise the path for an employee to r...</td>\n",
       "      <td>Open</td>\n",
       "      <td>No</td>\n",
       "      <td>No</td>\n",
       "      <td>...</td>\n",
       "      <td>NaN</td>\n",
       "      <td>NaN</td>\n",
       "      <td>2018-10-01 10:33:36</td>\n",
       "      <td>Munsell,Julia E.</td>\n",
       "      <td>2018-10-01 10:33:36</td>\n",
       "      <td>Munsell,Julia E.</td>\n",
       "      <td>201810</td>\n",
       "      <td>-</td>\n",
       "      <td>Item</td>\n",
       "      <td>ccm/FRC/Lists/TEST</td>\n",
       "    </tr>\n",
       "    <tr>\n",
       "      <th>2</th>\n",
       "      <td>13958</td>\n",
       "      <td>2018-10-01</td>\n",
       "      <td>NaT</td>\n",
       "      <td>Brooks, Jayson</td>\n",
       "      <td>reference connect</td>\n",
       "      <td>Amato,Marisol</td>\n",
       "      <td>\\n​\\nHello\\n \\nI need to get a couple of publi...</td>\n",
       "      <td>Open</td>\n",
       "      <td>No</td>\n",
       "      <td>No</td>\n",
       "      <td>...</td>\n",
       "      <td>NaN</td>\n",
       "      <td>NaN</td>\n",
       "      <td>2018-10-01 10:32:12</td>\n",
       "      <td>Munsell,Julia E.</td>\n",
       "      <td>2018-10-01 10:32:12</td>\n",
       "      <td>Munsell,Julia E.</td>\n",
       "      <td>201810</td>\n",
       "      <td>-</td>\n",
       "      <td>Item</td>\n",
       "      <td>ccm/FRC/Lists/TEST</td>\n",
       "    </tr>\n",
       "    <tr>\n",
       "      <th>3</th>\n",
       "      <td>13957</td>\n",
       "      <td>2018-10-01</td>\n",
       "      <td>NaT</td>\n",
       "      <td>Bush, Andrew</td>\n",
       "      <td>Tech Rating</td>\n",
       "      <td>Miletich,Denise</td>\n",
       "      <td>\\n​Tech RAting error</td>\n",
       "      <td>Pending Follow-Up Outside FRC</td>\n",
       "      <td>No</td>\n",
       "      <td>No</td>\n",
       "      <td>...</td>\n",
       "      <td>TAP IT</td>\n",
       "      <td>INC0692683</td>\n",
       "      <td>2018-10-01 10:29:46</td>\n",
       "      <td>Bush,Andrew</td>\n",
       "      <td>2018-10-01 10:29:46</td>\n",
       "      <td>Bush,Andrew</td>\n",
       "      <td>201810</td>\n",
       "      <td>-</td>\n",
       "      <td>Item</td>\n",
       "      <td>ccm/FRC/Lists/TEST</td>\n",
       "    </tr>\n",
       "    <tr>\n",
       "      <th>4</th>\n",
       "      <td>13956</td>\n",
       "      <td>2018-10-01</td>\n",
       "      <td>NaT</td>\n",
       "      <td>Ewing, Jamie</td>\n",
       "      <td>Submission Documents in EPC</td>\n",
       "      <td>Howard,Anne</td>\n",
       "      <td>\\n​\\nI'm not able to open new business submiss...</td>\n",
       "      <td>Open</td>\n",
       "      <td>No</td>\n",
       "      <td>No</td>\n",
       "      <td>...</td>\n",
       "      <td>NaN</td>\n",
       "      <td>NaN</td>\n",
       "      <td>2018-10-01 09:40:43</td>\n",
       "      <td>Munsell,Julia E.</td>\n",
       "      <td>2018-10-01 09:40:43</td>\n",
       "      <td>Munsell,Julia E.</td>\n",
       "      <td>201810</td>\n",
       "      <td>-</td>\n",
       "      <td>Item</td>\n",
       "      <td>ccm/FRC/Lists/TEST</td>\n",
       "    </tr>\n",
       "  </tbody>\n",
       "</table>\n",
       "<p>5 rows × 32 columns</p>\n",
       "</div>"
      ],
      "text/plain": [
       "      ID Submission Date Resolution Date       FRC Owner  \\\n",
       "0  13960      2018-10-01             NaT    Bush, Andrew   \n",
       "1  13959      2018-10-01             NaT    Reel, Joshua   \n",
       "2  13958      2018-10-01             NaT  Brooks, Jayson   \n",
       "3  13957      2018-10-01             NaT    Bush, Andrew   \n",
       "4  13956      2018-10-01             NaT    Ewing, Jamie   \n",
       "\n",
       "                                           Request          Requestor  \\\n",
       "0  return premium endorsement was booked in Rapid     Lal,Pushpanjali   \n",
       "1                                  CRIS training ?  Albright,Kevin T.   \n",
       "2                                reference connect      Amato,Marisol   \n",
       "3                                      Tech Rating    Miletich,Denise   \n",
       "4                      Submission Documents in EPC        Howard,Anne   \n",
       "\n",
       "                                 Request Description  \\\n",
       "0  \\n​\\nGood Morning All,\\n \\nAs I mentioned belo...   \n",
       "1  \\n​Please advise the path for an employee to r...   \n",
       "2  \\n​\\nHello\\n \\nI need to get a couple of publi...   \n",
       "3                               \\n​Tech RAting error   \n",
       "4  \\n​\\nI'm not able to open new business submiss...   \n",
       "\n",
       "                          Status Urgent? Reopen?         ...          \\\n",
       "0                           Open      No      No         ...           \n",
       "1                           Open      No      No         ...           \n",
       "2                           Open      No      No         ...           \n",
       "3  Pending Follow-Up Outside FRC      No      No         ...           \n",
       "4                           Open      No      No         ...           \n",
       "\n",
       "  Resource(s) Used / Referred To Incident / PME / Project # (Where Appl.)  \\\n",
       "0                            NaN                                      NaN   \n",
       "1                            NaN                                      NaN   \n",
       "2                            NaN                                      NaN   \n",
       "3                         TAP IT                               INC0692683   \n",
       "4                            NaN                                      NaN   \n",
       "\n",
       "              Created        Created By            Modified  Last Modified By  \\\n",
       "0 2018-10-01 10:44:16  Munsell,Julia E. 2018-10-01 10:44:16  Munsell,Julia E.   \n",
       "1 2018-10-01 10:33:36  Munsell,Julia E. 2018-10-01 10:33:36  Munsell,Julia E.   \n",
       "2 2018-10-01 10:32:12  Munsell,Julia E. 2018-10-01 10:32:12  Munsell,Julia E.   \n",
       "3 2018-10-01 10:29:46       Bush,Andrew 2018-10-01 10:29:46       Bush,Andrew   \n",
       "4 2018-10-01 09:40:43  Munsell,Julia E. 2018-10-01 09:40:43  Munsell,Julia E.   \n",
       "\n",
       "  Submission Month res date Item Type                Path  \n",
       "0           201810        -      Item  ccm/FRC/Lists/TEST  \n",
       "1           201810        -      Item  ccm/FRC/Lists/TEST  \n",
       "2           201810        -      Item  ccm/FRC/Lists/TEST  \n",
       "3           201810        -      Item  ccm/FRC/Lists/TEST  \n",
       "4           201810        -      Item  ccm/FRC/Lists/TEST  \n",
       "\n",
       "[5 rows x 32 columns]"
      ]
     },
     "execution_count": 5,
     "metadata": {},
     "output_type": "execute_result"
    }
   ],
   "source": [
    "df_requests.head()"
   ]
  },
  {
   "cell_type": "code",
   "execution_count": 3,
   "metadata": {},
   "outputs": [],
   "source": [
    "key_word_list = ['Rate Change',\n",
    "'Form Review',\n",
    "'Endorsement Print',\n",
    "'Premium Discrepancy',\n",
    "'CAT',\n",
    "'Endorsement Process',\n",
    "'Experience Modification',\n",
    "'Billing',\n",
    "'System Issue',\n",
    "'Policy Setup',\n",
    "'Rating Error',\n",
    "'BOR',\n",
    "'Policy Issuance',\n",
    "'Rating Process',\n",
    "'Officer Exclusion',\n",
    "'Loss Analysis',\n",
    "'LOB Assistance'\n",
    "'Premium Issue']\n",
    "condensed_list = []\n",
    "for row in df_requests['Key Word Roll-Up']:\n",
    "    if row in key_word_list:\n",
    "        condensed_list.append(row)\n",
    "    else: \n",
    "        condensed_list.append('Other')"
   ]
  },
  {
   "cell_type": "code",
   "execution_count": 5,
   "metadata": {},
   "outputs": [
    {
     "data": {
      "text/plain": [
       "8642"
      ]
     },
     "execution_count": 5,
     "metadata": {},
     "output_type": "execute_result"
    }
   ],
   "source": [
    "len(df_requests)"
   ]
  },
  {
   "cell_type": "code",
   "execution_count": null,
   "metadata": {},
   "outputs": [],
   "source": [
    "len()"
   ]
  },
  {
   "cell_type": "code",
   "execution_count": 6,
   "metadata": {},
   "outputs": [],
   "source": [
    "df_requests['key_words'] = condensed_list"
   ]
  },
  {
   "cell_type": "code",
   "execution_count": 7,
   "metadata": {},
   "outputs": [
    {
     "data": {
      "text/html": [
       "<div>\n",
       "<style scoped>\n",
       "    .dataframe tbody tr th:only-of-type {\n",
       "        vertical-align: middle;\n",
       "    }\n",
       "\n",
       "    .dataframe tbody tr th {\n",
       "        vertical-align: top;\n",
       "    }\n",
       "\n",
       "    .dataframe thead th {\n",
       "        text-align: right;\n",
       "    }\n",
       "</style>\n",
       "<table border=\"1\" class=\"dataframe\">\n",
       "  <thead>\n",
       "    <tr style=\"text-align: right;\">\n",
       "      <th></th>\n",
       "      <th>ID</th>\n",
       "      <th>Submission Date</th>\n",
       "      <th>Resolution Date</th>\n",
       "      <th>FRC Owner</th>\n",
       "      <th>Request</th>\n",
       "      <th>Requestor</th>\n",
       "      <th>Request Description</th>\n",
       "      <th>Status</th>\n",
       "      <th>Urgent?</th>\n",
       "      <th>Reopen?</th>\n",
       "      <th>...</th>\n",
       "      <th>Incident / PME / Project # (Where Appl.)</th>\n",
       "      <th>Created</th>\n",
       "      <th>Created By</th>\n",
       "      <th>Modified</th>\n",
       "      <th>Last Modified By</th>\n",
       "      <th>Submission Month</th>\n",
       "      <th>res date</th>\n",
       "      <th>Item Type</th>\n",
       "      <th>Path</th>\n",
       "      <th>key_words</th>\n",
       "    </tr>\n",
       "  </thead>\n",
       "  <tbody>\n",
       "    <tr>\n",
       "      <th>0</th>\n",
       "      <td>13960</td>\n",
       "      <td>2018-10-01</td>\n",
       "      <td>NaT</td>\n",
       "      <td>Bush, Andrew</td>\n",
       "      <td>return premium endorsement was booked in Rapid</td>\n",
       "      <td>Lal,Pushpanjali</td>\n",
       "      <td>\\n​\\nGood Morning All,\\n \\nAs I mentioned belo...</td>\n",
       "      <td>Open</td>\n",
       "      <td>No</td>\n",
       "      <td>No</td>\n",
       "      <td>...</td>\n",
       "      <td>NaN</td>\n",
       "      <td>2018-10-01 10:44:16</td>\n",
       "      <td>Munsell,Julia E.</td>\n",
       "      <td>2018-10-01 10:44:16</td>\n",
       "      <td>Munsell,Julia E.</td>\n",
       "      <td>201810</td>\n",
       "      <td>-</td>\n",
       "      <td>Item</td>\n",
       "      <td>ccm/FRC/Lists/TEST</td>\n",
       "      <td>Endorsement Process</td>\n",
       "    </tr>\n",
       "    <tr>\n",
       "      <th>1</th>\n",
       "      <td>13959</td>\n",
       "      <td>2018-10-01</td>\n",
       "      <td>NaT</td>\n",
       "      <td>Reel, Joshua</td>\n",
       "      <td>CRIS training ?</td>\n",
       "      <td>Albright,Kevin T.</td>\n",
       "      <td>\\n​Please advise the path for an employee to r...</td>\n",
       "      <td>Open</td>\n",
       "      <td>No</td>\n",
       "      <td>No</td>\n",
       "      <td>...</td>\n",
       "      <td>NaN</td>\n",
       "      <td>2018-10-01 10:33:36</td>\n",
       "      <td>Munsell,Julia E.</td>\n",
       "      <td>2018-10-01 10:33:36</td>\n",
       "      <td>Munsell,Julia E.</td>\n",
       "      <td>201810</td>\n",
       "      <td>-</td>\n",
       "      <td>Item</td>\n",
       "      <td>ccm/FRC/Lists/TEST</td>\n",
       "      <td>Other</td>\n",
       "    </tr>\n",
       "    <tr>\n",
       "      <th>2</th>\n",
       "      <td>13958</td>\n",
       "      <td>2018-10-01</td>\n",
       "      <td>NaT</td>\n",
       "      <td>Brooks, Jayson</td>\n",
       "      <td>reference connect</td>\n",
       "      <td>Amato,Marisol</td>\n",
       "      <td>\\n​\\nHello\\n \\nI need to get a couple of publi...</td>\n",
       "      <td>Open</td>\n",
       "      <td>No</td>\n",
       "      <td>No</td>\n",
       "      <td>...</td>\n",
       "      <td>NaN</td>\n",
       "      <td>2018-10-01 10:32:12</td>\n",
       "      <td>Munsell,Julia E.</td>\n",
       "      <td>2018-10-01 10:32:12</td>\n",
       "      <td>Munsell,Julia E.</td>\n",
       "      <td>201810</td>\n",
       "      <td>-</td>\n",
       "      <td>Item</td>\n",
       "      <td>ccm/FRC/Lists/TEST</td>\n",
       "      <td>Other</td>\n",
       "    </tr>\n",
       "    <tr>\n",
       "      <th>3</th>\n",
       "      <td>13957</td>\n",
       "      <td>2018-10-01</td>\n",
       "      <td>NaT</td>\n",
       "      <td>Bush, Andrew</td>\n",
       "      <td>Tech Rating</td>\n",
       "      <td>Miletich,Denise</td>\n",
       "      <td>\\n​Tech RAting error</td>\n",
       "      <td>Pending Follow-Up Outside FRC</td>\n",
       "      <td>No</td>\n",
       "      <td>No</td>\n",
       "      <td>...</td>\n",
       "      <td>INC0692683</td>\n",
       "      <td>2018-10-01 10:29:46</td>\n",
       "      <td>Bush,Andrew</td>\n",
       "      <td>2018-10-01 10:29:46</td>\n",
       "      <td>Bush,Andrew</td>\n",
       "      <td>201810</td>\n",
       "      <td>-</td>\n",
       "      <td>Item</td>\n",
       "      <td>ccm/FRC/Lists/TEST</td>\n",
       "      <td>Other</td>\n",
       "    </tr>\n",
       "    <tr>\n",
       "      <th>4</th>\n",
       "      <td>13956</td>\n",
       "      <td>2018-10-01</td>\n",
       "      <td>NaT</td>\n",
       "      <td>Ewing, Jamie</td>\n",
       "      <td>Submission Documents in EPC</td>\n",
       "      <td>Howard,Anne</td>\n",
       "      <td>\\n​\\nI'm not able to open new business submiss...</td>\n",
       "      <td>Open</td>\n",
       "      <td>No</td>\n",
       "      <td>No</td>\n",
       "      <td>...</td>\n",
       "      <td>NaN</td>\n",
       "      <td>2018-10-01 09:40:43</td>\n",
       "      <td>Munsell,Julia E.</td>\n",
       "      <td>2018-10-01 09:40:43</td>\n",
       "      <td>Munsell,Julia E.</td>\n",
       "      <td>201810</td>\n",
       "      <td>-</td>\n",
       "      <td>Item</td>\n",
       "      <td>ccm/FRC/Lists/TEST</td>\n",
       "      <td>System Issue</td>\n",
       "    </tr>\n",
       "  </tbody>\n",
       "</table>\n",
       "<p>5 rows × 33 columns</p>\n",
       "</div>"
      ],
      "text/plain": [
       "      ID Submission Date Resolution Date       FRC Owner  \\\n",
       "0  13960      2018-10-01             NaT    Bush, Andrew   \n",
       "1  13959      2018-10-01             NaT    Reel, Joshua   \n",
       "2  13958      2018-10-01             NaT  Brooks, Jayson   \n",
       "3  13957      2018-10-01             NaT    Bush, Andrew   \n",
       "4  13956      2018-10-01             NaT    Ewing, Jamie   \n",
       "\n",
       "                                           Request          Requestor  \\\n",
       "0  return premium endorsement was booked in Rapid     Lal,Pushpanjali   \n",
       "1                                  CRIS training ?  Albright,Kevin T.   \n",
       "2                                reference connect      Amato,Marisol   \n",
       "3                                      Tech Rating    Miletich,Denise   \n",
       "4                      Submission Documents in EPC        Howard,Anne   \n",
       "\n",
       "                                 Request Description  \\\n",
       "0  \\n​\\nGood Morning All,\\n \\nAs I mentioned belo...   \n",
       "1  \\n​Please advise the path for an employee to r...   \n",
       "2  \\n​\\nHello\\n \\nI need to get a couple of publi...   \n",
       "3                               \\n​Tech RAting error   \n",
       "4  \\n​\\nI'm not able to open new business submiss...   \n",
       "\n",
       "                          Status Urgent? Reopen?         ...           \\\n",
       "0                           Open      No      No         ...            \n",
       "1                           Open      No      No         ...            \n",
       "2                           Open      No      No         ...            \n",
       "3  Pending Follow-Up Outside FRC      No      No         ...            \n",
       "4                           Open      No      No         ...            \n",
       "\n",
       "  Incident / PME / Project # (Where Appl.)             Created  \\\n",
       "0                                      NaN 2018-10-01 10:44:16   \n",
       "1                                      NaN 2018-10-01 10:33:36   \n",
       "2                                      NaN 2018-10-01 10:32:12   \n",
       "3                               INC0692683 2018-10-01 10:29:46   \n",
       "4                                      NaN 2018-10-01 09:40:43   \n",
       "\n",
       "         Created By            Modified  Last Modified By Submission Month  \\\n",
       "0  Munsell,Julia E. 2018-10-01 10:44:16  Munsell,Julia E.           201810   \n",
       "1  Munsell,Julia E. 2018-10-01 10:33:36  Munsell,Julia E.           201810   \n",
       "2  Munsell,Julia E. 2018-10-01 10:32:12  Munsell,Julia E.           201810   \n",
       "3       Bush,Andrew 2018-10-01 10:29:46       Bush,Andrew           201810   \n",
       "4  Munsell,Julia E. 2018-10-01 09:40:43  Munsell,Julia E.           201810   \n",
       "\n",
       "  res date Item Type                Path            key_words  \n",
       "0        -      Item  ccm/FRC/Lists/TEST  Endorsement Process  \n",
       "1        -      Item  ccm/FRC/Lists/TEST                Other  \n",
       "2        -      Item  ccm/FRC/Lists/TEST                Other  \n",
       "3        -      Item  ccm/FRC/Lists/TEST                Other  \n",
       "4        -      Item  ccm/FRC/Lists/TEST         System Issue  \n",
       "\n",
       "[5 rows x 33 columns]"
      ]
     },
     "execution_count": 7,
     "metadata": {},
     "output_type": "execute_result"
    }
   ],
   "source": [
    "df_requests.head()"
   ]
  },
  {
   "cell_type": "code",
   "execution_count": 74,
   "metadata": {},
   "outputs": [
    {
     "data": {
      "text/plain": [
       "(8642, 149172)"
      ]
     },
     "execution_count": 74,
     "metadata": {},
     "output_type": "execute_result"
    }
   ],
   "source": [
    "from sklearn.feature_extraction.text import CountVectorizer\n",
    "vectorizer = CountVectorizer(ngram_range=(1,2))\n",
    "train_posts = vectorizer.fit_transform(df_requests['Request Description'])\n",
    "train_posts.shape"
   ]
  },
  {
   "cell_type": "code",
   "execution_count": 72,
   "metadata": {},
   "outputs": [],
   "source": [
    "train_size = int(len(df_requests) * .8)\n",
    "train_posts = df_requests['Request Description']#[:train_size]\n",
    "train_tags = df_requests['key_words']#[:train_size]\n",
    "test_posts = df_requests['Request Description']#[train_size:]\n",
    "test_tags = df_requests['key_words']#[train_size:]"
   ]
  },
  {
   "cell_type": "code",
   "execution_count": 77,
   "metadata": {},
   "outputs": [
    {
     "data": {
      "text/plain": [
       "(8642,)"
      ]
     },
     "execution_count": 77,
     "metadata": {},
     "output_type": "execute_result"
    }
   ],
   "source": [
    "train_tags.shape"
   ]
  },
  {
   "cell_type": "code",
   "execution_count": 17,
   "metadata": {},
   "outputs": [],
   "source": [
    "vocab_size = 2000\n",
    "tokenize = text.Tokenizer(num_words=vocab_size)\n",
    "tokenize.fit_on_texts(train_posts)"
   ]
  },
  {
   "cell_type": "code",
   "execution_count": 73,
   "metadata": {},
   "outputs": [
    {
     "data": {
      "text/plain": [
       "(8642,)"
      ]
     },
     "execution_count": 73,
     "metadata": {},
     "output_type": "execute_result"
    }
   ],
   "source": [
    "train_posts.shape"
   ]
  },
  {
   "cell_type": "code",
   "execution_count": 18,
   "metadata": {},
   "outputs": [],
   "source": [
    "x_train = tokenize.texts_to_matrix(train_posts)"
   ]
  },
  {
   "cell_type": "code",
   "execution_count": 78,
   "metadata": {},
   "outputs": [
    {
     "data": {
      "text/plain": [
       "(8642, 17)"
      ]
     },
     "execution_count": 78,
     "metadata": {},
     "output_type": "execute_result"
    }
   ],
   "source": [
    "encoder = LabelBinarizer()\n",
    "encoder.fit(train_tags)\n",
    "y_train = encoder.transform(train_tags)\n",
    "y_test = encoder.transform(test_tags)\n",
    "y_train.shape"
   ]
  },
  {
   "cell_type": "code",
   "execution_count": 79,
   "metadata": {},
   "outputs": [
    {
     "name": "stdout",
     "output_type": "stream",
     "text": [
      "Train on 7777 samples, validate on 865 samples\n",
      "Epoch 1/20\n",
      "7777/7777 [==============================] - 714s 92ms/step - loss: 1.5134 - acc: 0.6743 - val_loss: 1.1486 - val_acc: 0.7017\n",
      "Epoch 2/20\n",
      "7777/7777 [==============================] - 868s 112ms/step - loss: 0.2750 - acc: 0.9180 - val_loss: 1.3982 - val_acc: 0.6844\n",
      "Epoch 3/20\n"
     ]
    },
    {
     "ename": "KeyboardInterrupt",
     "evalue": "",
     "output_type": "error",
     "traceback": [
      "\u001b[0;31m---------------------------------------------------------------------------\u001b[0m",
      "\u001b[0;31mKeyboardInterrupt\u001b[0m                         Traceback (most recent call last)",
      "\u001b[0;32m<ipython-input-79-38895ca7c86d>\u001b[0m in \u001b[0;36m<module>\u001b[0;34m()\u001b[0m\n\u001b[1;32m     13\u001b[0m                     \u001b[0mepochs\u001b[0m\u001b[0;34m=\u001b[0m\u001b[0;36m20\u001b[0m\u001b[0;34m,\u001b[0m\u001b[0;34m\u001b[0m\u001b[0m\n\u001b[1;32m     14\u001b[0m                     \u001b[0mverbose\u001b[0m\u001b[0;34m=\u001b[0m\u001b[0;36m1\u001b[0m\u001b[0;34m,\u001b[0m\u001b[0;34m\u001b[0m\u001b[0m\n\u001b[0;32m---> 15\u001b[0;31m                     validation_split=0.1)\n\u001b[0m",
      "\u001b[0;32m/anaconda3/lib/python3.6/site-packages/keras/engine/training.py\u001b[0m in \u001b[0;36mfit\u001b[0;34m(self, x, y, batch_size, epochs, verbose, callbacks, validation_split, validation_data, shuffle, class_weight, sample_weight, initial_epoch, steps_per_epoch, validation_steps, **kwargs)\u001b[0m\n\u001b[1;32m   1035\u001b[0m                                         \u001b[0minitial_epoch\u001b[0m\u001b[0;34m=\u001b[0m\u001b[0minitial_epoch\u001b[0m\u001b[0;34m,\u001b[0m\u001b[0;34m\u001b[0m\u001b[0m\n\u001b[1;32m   1036\u001b[0m                                         \u001b[0msteps_per_epoch\u001b[0m\u001b[0;34m=\u001b[0m\u001b[0msteps_per_epoch\u001b[0m\u001b[0;34m,\u001b[0m\u001b[0;34m\u001b[0m\u001b[0m\n\u001b[0;32m-> 1037\u001b[0;31m                                         validation_steps=validation_steps)\n\u001b[0m\u001b[1;32m   1038\u001b[0m \u001b[0;34m\u001b[0m\u001b[0m\n\u001b[1;32m   1039\u001b[0m     def evaluate(self, x=None, y=None,\n",
      "\u001b[0;32m/anaconda3/lib/python3.6/site-packages/keras/engine/training_arrays.py\u001b[0m in \u001b[0;36mfit_loop\u001b[0;34m(model, f, ins, out_labels, batch_size, epochs, verbose, callbacks, val_f, val_ins, shuffle, callback_metrics, initial_epoch, steps_per_epoch, validation_steps)\u001b[0m\n\u001b[1;32m    197\u001b[0m                     \u001b[0mins_batch\u001b[0m\u001b[0;34m[\u001b[0m\u001b[0mi\u001b[0m\u001b[0;34m]\u001b[0m \u001b[0;34m=\u001b[0m \u001b[0mins_batch\u001b[0m\u001b[0;34m[\u001b[0m\u001b[0mi\u001b[0m\u001b[0;34m]\u001b[0m\u001b[0;34m.\u001b[0m\u001b[0mtoarray\u001b[0m\u001b[0;34m(\u001b[0m\u001b[0;34m)\u001b[0m\u001b[0;34m\u001b[0m\u001b[0m\n\u001b[1;32m    198\u001b[0m \u001b[0;34m\u001b[0m\u001b[0m\n\u001b[0;32m--> 199\u001b[0;31m                 \u001b[0mouts\u001b[0m \u001b[0;34m=\u001b[0m \u001b[0mf\u001b[0m\u001b[0;34m(\u001b[0m\u001b[0mins_batch\u001b[0m\u001b[0;34m)\u001b[0m\u001b[0;34m\u001b[0m\u001b[0m\n\u001b[0m\u001b[1;32m    200\u001b[0m                 \u001b[0mouts\u001b[0m \u001b[0;34m=\u001b[0m \u001b[0mto_list\u001b[0m\u001b[0;34m(\u001b[0m\u001b[0mouts\u001b[0m\u001b[0;34m)\u001b[0m\u001b[0;34m\u001b[0m\u001b[0m\n\u001b[1;32m    201\u001b[0m                 \u001b[0;32mfor\u001b[0m \u001b[0ml\u001b[0m\u001b[0;34m,\u001b[0m \u001b[0mo\u001b[0m \u001b[0;32min\u001b[0m \u001b[0mzip\u001b[0m\u001b[0;34m(\u001b[0m\u001b[0mout_labels\u001b[0m\u001b[0;34m,\u001b[0m \u001b[0mouts\u001b[0m\u001b[0;34m)\u001b[0m\u001b[0;34m:\u001b[0m\u001b[0;34m\u001b[0m\u001b[0m\n",
      "\u001b[0;32m/anaconda3/lib/python3.6/site-packages/keras/backend/tensorflow_backend.py\u001b[0m in \u001b[0;36m__call__\u001b[0;34m(self, inputs)\u001b[0m\n\u001b[1;32m   2664\u001b[0m                 \u001b[0;32mreturn\u001b[0m \u001b[0mself\u001b[0m\u001b[0;34m.\u001b[0m\u001b[0m_legacy_call\u001b[0m\u001b[0;34m(\u001b[0m\u001b[0minputs\u001b[0m\u001b[0;34m)\u001b[0m\u001b[0;34m\u001b[0m\u001b[0m\n\u001b[1;32m   2665\u001b[0m \u001b[0;34m\u001b[0m\u001b[0m\n\u001b[0;32m-> 2666\u001b[0;31m             \u001b[0;32mreturn\u001b[0m \u001b[0mself\u001b[0m\u001b[0;34m.\u001b[0m\u001b[0m_call\u001b[0m\u001b[0;34m(\u001b[0m\u001b[0minputs\u001b[0m\u001b[0;34m)\u001b[0m\u001b[0;34m\u001b[0m\u001b[0m\n\u001b[0m\u001b[1;32m   2667\u001b[0m         \u001b[0;32melse\u001b[0m\u001b[0;34m:\u001b[0m\u001b[0;34m\u001b[0m\u001b[0m\n\u001b[1;32m   2668\u001b[0m             \u001b[0;32mif\u001b[0m \u001b[0mpy_any\u001b[0m\u001b[0;34m(\u001b[0m\u001b[0mis_tensor\u001b[0m\u001b[0;34m(\u001b[0m\u001b[0mx\u001b[0m\u001b[0;34m)\u001b[0m \u001b[0;32mfor\u001b[0m \u001b[0mx\u001b[0m \u001b[0;32min\u001b[0m \u001b[0minputs\u001b[0m\u001b[0;34m)\u001b[0m\u001b[0;34m:\u001b[0m\u001b[0;34m\u001b[0m\u001b[0m\n",
      "\u001b[0;32m/anaconda3/lib/python3.6/site-packages/keras/backend/tensorflow_backend.py\u001b[0m in \u001b[0;36m_call\u001b[0;34m(self, inputs)\u001b[0m\n\u001b[1;32m   2634\u001b[0m                                 \u001b[0msymbol_vals\u001b[0m\u001b[0;34m,\u001b[0m\u001b[0;34m\u001b[0m\u001b[0m\n\u001b[1;32m   2635\u001b[0m                                 session)\n\u001b[0;32m-> 2636\u001b[0;31m         \u001b[0mfetched\u001b[0m \u001b[0;34m=\u001b[0m \u001b[0mself\u001b[0m\u001b[0;34m.\u001b[0m\u001b[0m_callable_fn\u001b[0m\u001b[0;34m(\u001b[0m\u001b[0;34m*\u001b[0m\u001b[0marray_vals\u001b[0m\u001b[0;34m)\u001b[0m\u001b[0;34m\u001b[0m\u001b[0m\n\u001b[0m\u001b[1;32m   2637\u001b[0m         \u001b[0;32mreturn\u001b[0m \u001b[0mfetched\u001b[0m\u001b[0;34m[\u001b[0m\u001b[0;34m:\u001b[0m\u001b[0mlen\u001b[0m\u001b[0;34m(\u001b[0m\u001b[0mself\u001b[0m\u001b[0;34m.\u001b[0m\u001b[0moutputs\u001b[0m\u001b[0;34m)\u001b[0m\u001b[0;34m]\u001b[0m\u001b[0;34m\u001b[0m\u001b[0m\n\u001b[1;32m   2638\u001b[0m \u001b[0;34m\u001b[0m\u001b[0m\n",
      "\u001b[0;32m/anaconda3/lib/python3.6/site-packages/tensorflow/python/client/session.py\u001b[0m in \u001b[0;36m__call__\u001b[0;34m(self, *args, **kwargs)\u001b[0m\n\u001b[1;32m   1380\u001b[0m           ret = tf_session.TF_SessionRunCallable(\n\u001b[1;32m   1381\u001b[0m               \u001b[0mself\u001b[0m\u001b[0;34m.\u001b[0m\u001b[0m_session\u001b[0m\u001b[0;34m.\u001b[0m\u001b[0m_session\u001b[0m\u001b[0;34m,\u001b[0m \u001b[0mself\u001b[0m\u001b[0;34m.\u001b[0m\u001b[0m_handle\u001b[0m\u001b[0;34m,\u001b[0m \u001b[0margs\u001b[0m\u001b[0;34m,\u001b[0m \u001b[0mstatus\u001b[0m\u001b[0;34m,\u001b[0m\u001b[0;34m\u001b[0m\u001b[0m\n\u001b[0;32m-> 1382\u001b[0;31m               run_metadata_ptr)\n\u001b[0m\u001b[1;32m   1383\u001b[0m         \u001b[0;32mif\u001b[0m \u001b[0mrun_metadata\u001b[0m\u001b[0;34m:\u001b[0m\u001b[0;34m\u001b[0m\u001b[0m\n\u001b[1;32m   1384\u001b[0m           \u001b[0mproto_data\u001b[0m \u001b[0;34m=\u001b[0m \u001b[0mtf_session\u001b[0m\u001b[0;34m.\u001b[0m\u001b[0mTF_GetBuffer\u001b[0m\u001b[0;34m(\u001b[0m\u001b[0mrun_metadata_ptr\u001b[0m\u001b[0;34m)\u001b[0m\u001b[0;34m\u001b[0m\u001b[0m\n",
      "\u001b[0;31mKeyboardInterrupt\u001b[0m: "
     ]
    }
   ],
   "source": [
    "model = Sequential()\n",
    "model.add(Dense(256, input_shape=(149172,)))\n",
    "model.add(Dense(512))\n",
    "model.add(Activation('relu'))\n",
    "model.add(Dense(y_train.shape[1]))\n",
    "model.add(Activation('softmax'))\n",
    "model.compile(loss='categorical_crossentropy', \n",
    "              optimizer='adam', \n",
    "              metrics=['accuracy'])\n",
    "\n",
    "history = model.fit(train_posts, y_train, \n",
    "                    batch_size=100, \n",
    "                    epochs=2, \n",
    "                    verbose=1, \n",
    "                    validation_split=0.1)"
   ]
  },
  {
   "cell_type": "code",
   "execution_count": 62,
   "metadata": {},
   "outputs": [
    {
     "data": {
      "text/plain": [
       "(6913, 17)"
      ]
     },
     "execution_count": 62,
     "metadata": {},
     "output_type": "execute_result"
    }
   ],
   "source": [
    "y_train.shape"
   ]
  },
  {
   "cell_type": "code",
   "execution_count": 36,
   "metadata": {},
   "outputs": [],
   "source": [
    "df_list = df_requests['Key Word Roll-Up'].value_counts()"
   ]
  },
  {
   "cell_type": "code",
   "execution_count": 37,
   "metadata": {},
   "outputs": [],
   "source": [
    "writer = pd.ExcelWriter('categories_output.xlsx')\n",
    "df_list.to_excel(writer,'Sheet1')\n",
    "writer.save()"
   ]
  },
  {
   "cell_type": "code",
   "execution_count": 25,
   "metadata": {},
   "outputs": [
    {
     "ename": "NameError",
     "evalue": "name 'x_test' is not defined",
     "output_type": "error",
     "traceback": [
      "\u001b[0;31m---------------------------------------------------------------------------\u001b[0m",
      "\u001b[0;31mNameError\u001b[0m                                 Traceback (most recent call last)",
      "\u001b[0;32m<ipython-input-25-8cf0f9c3b5b6>\u001b[0m in \u001b[0;36m<module>\u001b[0;34m()\u001b[0m\n\u001b[1;32m      1\u001b[0m \u001b[0;32mfor\u001b[0m \u001b[0mi\u001b[0m \u001b[0;32min\u001b[0m \u001b[0mrange\u001b[0m\u001b[0;34m(\u001b[0m\u001b[0;36m10\u001b[0m\u001b[0;34m)\u001b[0m\u001b[0;34m:\u001b[0m\u001b[0;34m\u001b[0m\u001b[0m\n\u001b[0;32m----> 2\u001b[0;31m     \u001b[0mprediction\u001b[0m \u001b[0;34m=\u001b[0m \u001b[0mmodel\u001b[0m\u001b[0;34m.\u001b[0m\u001b[0mpredict\u001b[0m\u001b[0;34m(\u001b[0m\u001b[0mnp\u001b[0m\u001b[0;34m.\u001b[0m\u001b[0marray\u001b[0m\u001b[0;34m(\u001b[0m\u001b[0;34m[\u001b[0m\u001b[0mx_test\u001b[0m\u001b[0;34m[\u001b[0m\u001b[0mi\u001b[0m\u001b[0;34m]\u001b[0m\u001b[0;34m]\u001b[0m\u001b[0;34m)\u001b[0m\u001b[0;34m)\u001b[0m\u001b[0;34m\u001b[0m\u001b[0m\n\u001b[0m",
      "\u001b[0;31mNameError\u001b[0m: name 'x_test' is not defined"
     ]
    }
   ],
   "source": [
    "for i in range(10):    \n",
    "    prediction = model.predict(np.array([x_test[i]]))"
   ]
  },
  {
   "cell_type": "code",
   "execution_count": null,
   "metadata": {},
   "outputs": [],
   "source": []
  }
 ],
 "metadata": {
  "kernelspec": {
   "display_name": "Python 3",
   "language": "python",
   "name": "python3"
  },
  "language_info": {
   "codemirror_mode": {
    "name": "ipython",
    "version": 3
   },
   "file_extension": ".py",
   "mimetype": "text/x-python",
   "name": "python",
   "nbconvert_exporter": "python",
   "pygments_lexer": "ipython3",
   "version": "3.6.5"
  }
 },
 "nbformat": 4,
 "nbformat_minor": 2
}
